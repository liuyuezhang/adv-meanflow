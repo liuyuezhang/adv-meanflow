{
 "cells": [
  {
   "cell_type": "code",
   "execution_count": 2,
   "metadata": {},
   "outputs": [],
   "source": [
    "import torch\n",
    "from models.model_configs import instantiate_model\n",
    "from train_arg_parser import get_args_parser\n",
    "\n",
    "\n",
    "# Parse arguments\n",
    "args = get_args_parser().parse_args([])\n",
    "args.use_edm_aug = True\n",
    "args.distributed = False"
   ]
  },
  {
   "cell_type": "code",
   "execution_count": 3,
   "metadata": {},
   "outputs": [
    {
     "name": "stdout",
     "output_type": "stream",
     "text": [
      "Checkpoint loaded.\n"
     ]
    }
   ],
   "source": [
    "chkpt = 'tmp/cifar10_mf.pth'\n",
    "checkpoint = torch.load(chkpt, map_location=\"cpu\", weights_only=False)\n",
    "\n",
    "model = instantiate_model(args)\n",
    "device = \"cuda\"\n",
    "model.to(device)\n",
    "\n",
    "model.load_state_dict(checkpoint[\"model\"])\n",
    "epoch = checkpoint[\"epoch\"] + 1\n",
    "\n",
    "print('Checkpoint loaded.')"
   ]
  },
  {
   "cell_type": "code",
   "execution_count": 4,
   "metadata": {},
   "outputs": [
    {
     "name": "stdout",
     "output_type": "stream",
     "text": [
      "Files already downloaded and verified\n"
     ]
    },
    {
     "name": "stderr",
     "output_type": "stream",
     "text": [
      "/home/lyz/anaconda3/envs/pytorch/lib/python3.9/multiprocessing/popen_fork.py:66: RuntimeWarning: os.fork() was called. os.fork() is incompatible with multithreaded code, and JAX is multithreaded, so this will likely lead to a deadlock.\n",
      "  self.pid = os.fork()\n",
      "/home/lyz/anaconda3/envs/pytorch/lib/python3.9/multiprocessing/popen_fork.py:66: RuntimeWarning: os.fork() was called. os.fork() is incompatible with multithreaded code, and JAX is multithreaded, so this will likely lead to a deadlock.\n",
      "  self.pid = os.fork()\n"
     ]
    }
   ],
   "source": [
    "env = 'cifar10'\n",
    "# clean data\n",
    "if env == 'cifar10':\n",
    "   n = 1000\n",
    "   batch = 50\n",
    "   eps = 8. / 255\n",
    "elif env == 'imagenet':\n",
    "   n = 200\n",
    "   batch = 10\n",
    "   eps = 4. / 255\n",
    "\n",
    "\n",
    "# X\n",
    "from data import make_data\n",
    "train_loader, test_loader = make_data(env, batch_size=batch, test_batch_size=batch, n_start=0, n=n)\n",
    "X = torch.cat([batch[0] for batch in test_loader], dim=0).numpy()\n",
    "targets = torch.cat([batch[1] for batch in test_loader], dim=0).numpy()"
   ]
  },
  {
   "cell_type": "code",
   "execution_count": 5,
   "metadata": {},
   "outputs": [],
   "source": [
    "x = torch.tensor(X[0][None, ...], dtype=torch.float32).to(device)"
   ]
  },
  {
   "cell_type": "code",
   "execution_count": 7,
   "metadata": {},
   "outputs": [
    {
     "ename": "",
     "evalue": "",
     "output_type": "error",
     "traceback": [
      "\u001b[1;31mThe Kernel crashed while executing code in the current cell or a previous cell. \n",
      "\u001b[1;31mPlease review the code in the cell(s) to identify a possible cause of the failure. \n",
      "\u001b[1;31mClick <a href='https://aka.ms/vscodeJupyterKernelCrash'>here</a> for more info. \n",
      "\u001b[1;31mView Jupyter <a href='command:jupyter.viewOutput'>log</a> for further details."
     ]
    }
   ],
   "source": [
    "h = model.sample(x.shape, device=device)"
   ]
  }
 ],
 "metadata": {
  "kernelspec": {
   "display_name": "pytorch",
   "language": "python",
   "name": "python3"
  },
  "language_info": {
   "codemirror_mode": {
    "name": "ipython",
    "version": 3
   },
   "file_extension": ".py",
   "mimetype": "text/x-python",
   "name": "python",
   "nbconvert_exporter": "python",
   "pygments_lexer": "ipython3",
   "version": "3.9.16"
  }
 },
 "nbformat": 4,
 "nbformat_minor": 2
}
